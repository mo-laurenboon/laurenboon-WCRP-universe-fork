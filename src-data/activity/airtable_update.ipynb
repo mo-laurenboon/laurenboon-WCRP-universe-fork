{
 "cells": [
  {
   "cell_type": "code",
   "execution_count": null,
   "metadata": {},
   "outputs": [],
   "source": [
    "import pandas as pd\n",
    "import json"
   ]
  },
  {
   "cell_type": "code",
   "execution_count": null,
   "metadata": {},
   "outputs": [],
   "source": [
    "data = pd.read_csv('~/Downloads/activities.csv')\n",
    "data.head()"
   ]
  },
  {
   "cell_type": "code",
   "execution_count": null,
   "metadata": {},
   "outputs": [],
   "source": [
    "for i,d in data.iterrows():\n",
    "    acronym = d['MIP acronym/identifier'].replace('_','-')\n",
    "    id = acronym.lower()\n",
    "    \n",
    "    if '/' in id: continue\n",
    "        \n",
    "    try:\n",
    "        update = json.load(open(f'{id}.json'))\n",
    "    except:\n",
    "        update = {\"description\": \"\"}\n",
    "        \n",
    "    if isinstance(d['MIP website'], str):\n",
    "        url = d['MIP website'].split(' ')[0]\n",
    "    else:\n",
    "        url = \"\"\n",
    "        \n",
    "    new = {\n",
    "    \"@context\": \"_context_\",\n",
    "    \"id\": id,\n",
    "    \"type\": [\n",
    "        \"wcrp:activity\",\n",
    "        \"universal\"\n",
    "    ],\n",
    "    \"url\": url,\n",
    "    \"label\": acronym,\n",
    "    \"ui-label\": d['MIP long name'],\n",
    "    }\n",
    "        \n",
    "    new.update(update)\n",
    "    \n",
    "    print(json.dumps(new, indent=2))\n",
    "    with open(f'{id}.json', 'w') as f:\n",
    "        json.dump(new, f, indent=2)"
   ]
  },
  {
   "cell_type": "code",
   "execution_count": null,
   "metadata": {},
   "outputs": [],
   "source": []
  }
 ],
 "metadata": {
  "kernelspec": {
   "display_name": "base",
   "language": "python",
   "name": "python3"
  },
  "language_info": {
   "codemirror_mode": {
    "name": "ipython",
    "version": 3
   },
   "file_extension": ".py",
   "mimetype": "text/x-python",
   "name": "python",
   "nbconvert_exporter": "python",
   "pygments_lexer": "ipython3",
   "version": "3.10.10"
  }
 },
 "nbformat": 4,
 "nbformat_minor": 2
}
